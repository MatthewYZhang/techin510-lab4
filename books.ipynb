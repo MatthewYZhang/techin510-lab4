{
 "cells": [
  {
   "cell_type": "code",
   "execution_count": 2,
   "metadata": {},
   "outputs": [],
   "source": [
    "from bs4 import BeautifulSoup\n",
    "import requests"
   ]
  },
  {
   "cell_type": "code",
   "execution_count": 14,
   "metadata": {},
   "outputs": [
    {
     "name": "stdout",
     "output_type": "stream",
     "text": [
      "<article class=\"product_pod\">\n",
      "<div class=\"image_container\">\n",
      "<a href=\"a-light-in-the-attic_1000/index.html\"><img alt=\"A Light in the Attic\" class=\"thumbnail\" src=\"../media/cache/2c/da/2cdad67c44b002e7ead0cc35693c0e8b.jpg\"/></a>\n",
      "</div>\n",
      "<p class=\"star-rating Three\">\n",
      "<i class=\"icon-star\"></i>\n",
      "<i class=\"icon-star\"></i>\n",
      "<i class=\"icon-star\"></i>\n",
      "<i class=\"icon-star\"></i>\n",
      "<i class=\"icon-star\"></i>\n",
      "</p>\n",
      "<h3><a href=\"a-light-in-the-attic_1000/index.html\" title=\"A Light in the Attic\">A Light in the ...</a></h3>\n",
      "<div class=\"product_price\">\n",
      "<p class=\"price_color\">Â£51.77</p>\n",
      "<p class=\"instock availability\">\n",
      "<i class=\"icon-ok\"></i>\n",
      "    \n",
      "        In stock\n",
      "    \n",
      "</p>\n",
      "<form>\n",
      "<button class=\"btn btn-primary btn-block\" data-loading-text=\"Adding...\" type=\"submit\">Add to basket</button>\n",
      "</form>\n",
      "</div>\n",
      "</article>\n",
      "['star-rating', 'Three']\n",
      "A Light in the Attic 3 51.77 In Stock ../media/cache/2c/da/2cdad67c44b002e7ead0cc35693c0e8b.jpg\n"
     ]
    }
   ],
   "source": [
    "URL= f'https://books.toscrape.com/catalogue/page-{1}.html'\n",
    "\n",
    "res = requests.get(URL)\n",
    "soup = BeautifulSoup(res.text, 'html.parser')\n",
    "# quote_divs = soup.select('div.quote')\n",
    "book_list = soup.select('article.product_pod')\n",
    "book = book_list[0]\n",
    "print(book)\n",
    "star_dict = {'one':1, 'two':2, 'three':3, 'four':4, 'five':5}\n",
    "title = book.select_one('img')['alt']\n",
    "print(book.select_one('p')['class'])\n",
    "star = star_dict[book.select_one('p')['class'][-1].lower()]\n",
    "price = book.select_one('p.price_color').text[2:]\n",
    "# print(book.select_one('p.instock availability'))\n",
    "in_stock = 'In Stock' if 'in stock' in book.text.lower() else 'Out of Stock' \n",
    "image_url = book.select_one('img')['src']\n",
    "print(title, star, price, in_stock, image_url)\n"
   ]
  },
  {
   "cell_type": "code",
   "execution_count": 15,
   "metadata": {},
   "outputs": [],
   "source": [
    "def get_data():\n",
    "    page_num = 1\n",
    "    stop = False\n",
    "    star_dict = {'one':1, 'two':2, 'three':3, 'four':4, 'five':5}\n",
    "    while not stop:\n",
    "        URL= f'https://books.toscrape.com/catalogue/page-{page_num}.html'\n",
    "        page_num += 1\n",
    "        res = requests.get(URL)\n",
    "        if res.status_code != 200:\n",
    "            stop = True\n",
    "            return\n",
    "        soup = BeautifulSoup(res.text, 'html.parser')\n",
    "        book_list = soup.select('article.product_pod')\n",
    "        for book in book_list:\n",
    "            title = book.select_one('img')['alt']\n",
    "            star = star_dict[book.select_one('p')['class'][-1].lower()]\n",
    "            price = book.select_one('p.price_color').text[2:]\n",
    "            in_stock = 'In Stock' if 'in stock' in book.text.lower() else 'Out of Stock' \n",
    "            image_url = book.select_one('img')['src']\n",
    "            print(title, star, price, in_stock, image_url)\n",
    "            book = {}\n",
    "            book['title'], book['star'], book['price'], book['in_stock'], book['url'] = title, star, price, in_stock, image_url\n",
    "            # db.insert_book(book)\n"
   ]
  },
  {
   "cell_type": "code",
   "execution_count": null,
   "metadata": {},
   "outputs": [],
   "source": [
    "get_data()"
   ]
  }
 ],
 "metadata": {
  "kernelspec": {
   "display_name": "base",
   "language": "python",
   "name": "python3"
  },
  "language_info": {
   "codemirror_mode": {
    "name": "ipython",
    "version": 3
   },
   "file_extension": ".py",
   "mimetype": "text/x-python",
   "name": "python",
   "nbconvert_exporter": "python",
   "pygments_lexer": "ipython3",
   "version": "3.10.11"
  }
 },
 "nbformat": 4,
 "nbformat_minor": 2
}
